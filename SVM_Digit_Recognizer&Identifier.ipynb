{
 "cells": [
  {
   "cell_type": "code",
   "execution_count": 18,
   "metadata": {},
   "outputs": [
    {
     "name": "stdout",
     "output_type": "stream",
     "text": [
      "1797\n",
      "prediction: [9]\n"
     ]
    },
    {
     "data": {
      "image/png": "[encoded data removed]",
      "text/plain": [
       "<Figure size 432x288 with 1 Axes>"
      ]
     },
     "metadata": {
      "needs_background": "light"
     },
     "output_type": "display_data"
    }
   ],
   "source": [
    "import matplotlib.pyplot as plt\n",
    "from sklearn import datasets\n",
    "from sklearn import svm\n",
    "import numpy\n",
    "\n",
    "\n",
    "digits=datasets.load_digits()\n",
    "'''\n",
    " print(digits.data)\n",
    " print(digits.target)\n",
    " print(digits.images[0])\n",
    " '''\n",
    "\n",
    "clf=svm.SVC(gamma=0.001, C=1.0)\n",
    "\n",
    "print(len(digits.data))\n",
    "\n",
    "x,y = digits.data[:-10],digits.target[:-10] #Training the M/C\n",
    "clf.fit(x,y)\n",
    "\n",
    "print('prediction:',clf.predict([digits.data[-2]]))\n",
    "plt.imshow(digits.images[-2], cmap=plt.cm.gray_r, interpolation=\"nearest\")\n",
    "plt.show()"
   ]
  },
  {
   "cell_type": "code",
   "execution_count": null,
   "metadata": {},
   "outputs": [],
   "source": []
  }
 ],
 "metadata": {
  "kernelspec": {
   "display_name": "Python 3",
   "language": "python",
   "name": "python3"
  },
  "language_info": {
   "codemirror_mode": {
    "name": "ipython",
    "version": 3
   },
   "file_extension": ".py",
   "mimetype": "text/x-python",
   "name": "python",
   "nbconvert_exporter": "python",
   "pygments_lexer": "ipython3",
   "version": "3.7.3"
  }
 },
 "nbformat": 4,
 "nbformat_minor": 2
}
